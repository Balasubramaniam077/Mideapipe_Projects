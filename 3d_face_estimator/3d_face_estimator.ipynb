{
 "cells": [
  {
   "cell_type": "code",
   "execution_count": null,
   "metadata": {},
   "outputs": [],
   "source": [
    "import mediapipe as mp\n",
    "import cv2"
   ]
  },
  {
   "cell_type": "code",
   "execution_count": null,
   "metadata": {},
   "outputs": [],
   "source": [
    "mp_face_mesh = mp.solutions.face_mesh\n",
    "# Prepare DrawingSpec for drawing the face landmarks later.\n",
    "mp_drawing = mp.solutions.drawing_utils \n",
    "#drawing_spec = mp_drawing.DrawingSpec(thickness=1, circle_radius=1, color=(80,110,10))\n",
    "drawing_spec = mp_drawing.DrawingSpec(thickness=1, circle_radius=1, color=(0,255,0))\n",
    "\n",
    "#path_video =\"images/videoplayback.mp4\"\n",
    "cap=cv2.VideoCapture(0)\n",
    "#cap =cv2.VideoCapture(path_video)\n",
    "\n",
    "with mp_face_mesh.FaceMesh(\n",
    "    static_image_mode=True,\n",
    "    max_num_faces=3,\n",
    "    min_detection_confidence=0.5) as face_mesh:\n",
    "    while True:\n",
    "        ret, image=cap.read()\n",
    "          \n",
    "        if ret:\n",
    "            results = face_mesh.process(image)\n",
    "        \n",
    "            if results.multi_face_landmarks:\n",
    "                \n",
    "                for face_landmarks in results.multi_face_landmarks:\n",
    "                    \n",
    "                    mp_drawing.draw_landmarks(\n",
    "                      image=image,\n",
    "                      landmark_list=face_landmarks,\n",
    "                      connections=mp_face_mesh.FACE_CONNECTIONS,\n",
    "                      landmark_drawing_spec=drawing_spec,\n",
    "                      connection_drawing_spec=drawing_spec)\n",
    "              \n",
    "            cv2.imshow(\"annotated_image\", image)\n",
    "        \n",
    "            if cv2.waitKey(5) & 0xFF == 27:\n",
    "                break\n",
    "        else:\n",
    "            break\n",
    "        \n",
    "cap.release()\n",
    "cv2.destroyAllWindows()"
   ]
  }
 ],
 "metadata": {
  "kernelspec": {
   "display_name": "Python 3",
   "language": "python",
   "name": "python3"
  },
  "language_info": {
   "codemirror_mode": {
    "name": "ipython",
    "version": 3
   },
   "file_extension": ".py",
   "mimetype": "text/x-python",
   "name": "python",
   "nbconvert_exporter": "python",
   "pygments_lexer": "ipython3",
   "version": "3.8.3"
  }
 },
 "nbformat": 4,
 "nbformat_minor": 4
}
